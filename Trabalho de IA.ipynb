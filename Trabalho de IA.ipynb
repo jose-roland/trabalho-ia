{
 "cells": [
  {
   "cell_type": "code",
   "execution_count": 2,
   "id": "72d675fa",
   "metadata": {
    "scrolled": true
   },
   "outputs": [],
   "source": [
    "# Leitura e limpeza do CSV"
   ]
  },
  {
   "cell_type": "code",
   "execution_count": null,
   "id": "12b8f3cc",
   "metadata": {},
   "outputs": [],
   "source": [
    "import pandas as pd\n",
    "\n",
    "pd.set_option('future.no_silent_downcasting', True)\n",
    "# Evita warning de que função replace mude dados de forma automática (downcasting)\n",
    "\n",
    "dataframe = pd.read_csv(\"customerchurn.csv\")\n",
    "# Leitura do CSV\n",
    "\n",
    "dataframe[\"TotalCharges\"] = pd.to_numeric(dataframe[\"TotalCharges\"], errors=\"coerce\")\n",
    "# Converte os dados de TotalCharges para numéricos\n",
    "\n",
    "for column in dataframe.columns:\n",
    "    if dataframe[column].dtype == object:\n",
    "        dataframe[column] = dataframe[column].str.strip()\n",
    "        # Remove espaços em branco dos valores, cajo haja algum\n",
    "\n",
    "        dataframe[column] = dataframe[column].replace({\n",
    "            \"No internet service\": \"Yes\",\n",
    "            \"No phone service\": \"No\",\n",
    "            \"0\": \"No\",\n",
    "            \"1\": \"Yes\",\n",
    "            0: \"No\",\n",
    "            1: \"Yes\"\n",
    "        }) # Troca valores inconsistentes por Yes ou No\n",
    "\n",
    "dataframe.loc[dataframe[\"TotalCharges\"].isnull(), \"TotalCharges\"] = 0\n",
    "# Preenche as linhas de TotalCharges nulas com 0"
   ]
  },
  {
   "cell_type": "code",
   "execution_count": null,
   "id": "36ee087c",
   "metadata": {},
   "outputs": [],
   "source": [
    "One-Hot Encoding"
   ]
  },
  {
   "cell_type": "code",
   "execution_count": null,
   "id": "4544e88e",
   "metadata": {},
   "outputs": [],
   "source": [
    "import pandas as pd\n",
    "\n",
    "columnsToNumeric = [\"SeniorCitizen\",\n",
    "                    \"Partner\",\n",
    "                    \"Dependents\",\n",
    "                    \"PhoneService\",\n",
    "                    \"MultipleLines\",\n",
    "                    \"OnlineSecurity\",\n",
    "                    \"OnlineBackup\",\n",
    "                    \"DeviceProtection\",\n",
    "                    \"TechSupport\",\n",
    "                    \"StreamingTV\",\n",
    "                    \"StreamingMovies\",\n",
    "                    \"PaperlessBilling\",\n",
    "                    \"TotalCharges\",\n",
    "                    \"Churn\"] # Lista das colunas que terão seus tipos convertidos de object para numeric\n",
    "\n",
    "categoricalColumns = [\"gender\", \"Contract\", \"PaymentMethod\"]\n",
    "# Lista das colunas que vão passar pelo one-hot encoding\n",
    "\n",
    "pd.set_option('future.no_silent_downcasting', True)\n",
    "# Evita warning de que função replace mude dados de forma automática (downcasting)\n",
    "\n",
    "dataframe = pd.read_csv(\"customerchurn.csv\")\n",
    "# Leitura do CSV\n",
    "\n",
    "dataframe[\"TotalCharges\"] = pd.to_numeric(dataframe[\"TotalCharges\"], errors=\"coerce\")\n",
    "# Converte os dados de TotalCharges para numéricos\n",
    "\n",
    "for column in dataframe.columns:\n",
    "    if dataframe[column].dtype == object:\n",
    "        dataframe[column] = dataframe[column].str.strip()\n",
    "        # Remove espaços em branco dos valores, cajo haja algum\n",
    "\n",
    "        dataframe[column] = dataframe[column].replace({\n",
    "            \"No phone service\": 0,\n",
    "            \"No\": 0,\n",
    "            \"Yes\": 1,\n",
    "            \"0\": 0,\n",
    "            \"1\": 1\n",
    "        }) # Troca valores por 0 ou 1\n",
    "\n",
    "dataframe.loc[dataframe[\"TotalCharges\"].isnull(), \"TotalCharges\"] = 0\n",
    "# Preenche as linhas de TotalCharges nulas com 0\n",
    "\n",
    "for i in columnsToNumeric:\n",
    "    dataframe[i] = pd.to_numeric(dataframe[i], errors=\"coerce\")\n",
    "    # Conversão de tipo para numeric\n",
    "\n",
    "    if i != \"TotalCharges\":\n",
    "        dataframe[i] = dataframe[i].astype(bool)\n",
    "        # \"Castando\" as colunas para tipo bool (exceto TotalCharges)\n",
    "\n",
    "dataframe = pd.get_dummies(dataframe, columns=categoricalColumns, drop_first=False)\n",
    "# Aplica one-hot encoding para todas as colunas no categoricalColumns\n",
    "\n",
    "internet_dummies = pd.get_dummies(dataframe[\"InternetService\"], prefix=\"InternetService\", drop_first=True)\n",
    "# Aplica one-hot encoding apenas para a coluna InternetService, descartando a primeira coluna (No)\n",
    "\n",
    "dataframe = pd.concat([dataframe, internet_dummies], axis=1)\n",
    "# Adiciona as colunas dummies (one-hot encoding) no dataframe\n",
    "\n",
    "dataframe.drop(columns=[\"InternetService\"], inplace=True)\n",
    "# Remove a coluna original do dataframe, deixando apenas as que passaram pelo one-hot encoding\n"
   ]
  }
 ],
 "metadata": {
  "kernelspec": {
   "display_name": "Python 3 (ipykernel)",
   "language": "python",
   "name": "python3"
  },
  "language_info": {
   "codemirror_mode": {
    "name": "ipython",
    "version": 3
   },
   "file_extension": ".py",
   "mimetype": "text/x-python",
   "name": "python",
   "nbconvert_exporter": "python",
   "pygments_lexer": "ipython3",
   "version": "3.12.3"
  }
 },
 "nbformat": 4,
 "nbformat_minor": 5
}
